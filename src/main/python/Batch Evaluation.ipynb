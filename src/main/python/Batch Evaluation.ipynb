{
 "cells": [
  {
   "cell_type": "markdown",
   "metadata": {},
   "source": [
    "## Batch Evaluation\n",
    "Set the folder parameter. Get an anaysis about all included batch evals"
   ]
  },
  {
   "cell_type": "code",
   "execution_count": 1,
   "metadata": {},
   "outputs": [],
   "source": [
    "# import\n",
    "import seaborn as sns\n",
    "import pandas as pd\n",
    "from matplotlib.pyplot import figure\n",
    "import matplotlib.pyplot as plt\n",
    "import json\n",
    "import os\n",
    "import pathlib\n",
    "\n",
    "#set path to folder\n",
    "folder = \"../../../eval-results/_server-results/test1\""
   ]
  },
  {
   "cell_type": "code",
   "execution_count": 10,
   "metadata": {
    "scrolled": true
   },
   "outputs": [],
   "source": [
    "#fetch data \n",
    "dir_list = next(os.walk(folder))[1]\n",
    "dfs = []\n",
    "#merge all \n",
    "for subfolder in dir_list:\n",
    "    evalFile = folder +r\"/\" + subfolder +\"/aggResults.eval\"\n",
    "    confFile = folder +r\"/\" + subfolder +\"/config.log\"\n",
    "    if os.path.exists(evalFile):\n",
    "        df = pd.read_csv(evalFile ,encoding=\"ISO-8859-1\", skipinitialspace=True)\n",
    "        with open(confFile) as json_file:\n",
    "            conf = json.load(json_file)\n",
    "            \n",
    "        df['matcher'] = conf['matcher']['ilp'] + \" - \" + conf['matcher']['profile'] +\" - \" + str(conf['matcher']['word-sim']) + \" - sim-weight=\" + str(conf['matcher']['sim-weight']) + \" - postprocessing=\" + str(conf['matcher']['postprocessing-thresh']) \n",
    "        df['complex-matches'] = conf['matcher']['complex matches']\n",
    "        df['profile'] = conf['matcher']['profile']\n",
    "        df['ilp'] =  conf['matcher']['ilp']\n",
    "        df['word-sim'] =  conf['matcher']['word-sim']\n",
    "        df['sim-weight'] = conf['matcher']['sim-weight']\n",
    "        df['postprocessing-threshold'] = conf['matcher']['postprocessing-thresh']\n",
    "        \n",
    "        df.set_index(['Name','matcher'])\n",
    "        dfs.append(df)\n",
    "df_combined = pd.concat(dfs)\n",
    "\n",
    "#convert time\n",
    "df_combined['OVERALL TIME'] = df_combined['OVERALL TIME'].map(lambda x: x / 1000000000.)\n",
    "df_combined['BP TIME'] = df_combined['BP TIME'].map(lambda x: x / 1000000000.)\n",
    "df_combined['LABEL-SIM TIME'] = df_combined['LABEL-SIM TIME'].map(lambda x: x / 1000000000.)\n",
    "df_combined['LP TIME'] = df_combined['LP TIME'].map(lambda x: x / 1000000000.)\n"
   ]
  },
  {
   "cell_type": "code",
   "execution_count": null,
   "metadata": {},
   "outputs": [],
   "source": [
    "#Filter Data on what we want to analyze\n",
    "\n",
    "#set x axis\n",
    " df['matcher'] =  df['matcher']\n",
    "\n",
    "    #filter frame for entries"
   ]
  },
  {
   "cell_type": "code",
   "execution_count": null,
   "metadata": {},
   "outputs": [],
   "source": [
    "#BASIC VISUALIZATION\n",
    "\n",
    "# visualize Precision \n",
    "g = sns.catplot(x=\"Name\", y=\"PRECISION\", hue=\"matcher\", kind=\"bar\", data=df_combined,  height=5, aspect=4);\n",
    "g.set_xticklabels(rotation=90)\n",
    "\n",
    "# Visualize Recall\n",
    "g = sns.catplot(x=\"Name\", y=\"RECALL\", hue=\"matcher\", kind=\"bar\", data=df_combined,  height=5, aspect=4);\n",
    "g.set_xticklabels(rotation=90)\n",
    "\n",
    "# Visualize FSCORE\n",
    "g = sns.catplot(x=\"Name\", y=\"FSCORE\", hue=\"matcher\", kind=\"bar\", data=df_combined,  height=5, aspect=4);\n",
    "g.set_xticklabels(rotation=90)\n",
    "\n",
    "#Visualize Runtime\n",
    "g = sns.catplot(x=\"Name\", y=\"LP TIME\", hue=\"matcher\", kind=\"bar\", data=df_combined,  height=5, aspect=4);\n",
    "g.set_xticklabels(rotation=90)\n",
    "\n",
    "#Visualize Runtime\n",
    "g = sns.catplot(x=\"Name\", y=\"LABEL-SIM TIME\", hue=\"matcher\", kind=\"bar\", data=df_combined,  height=5, aspect=4);\n",
    "g.set_xticklabels(rotation=90)\n",
    "\n",
    "#Visualize Runtime\n",
    "g = sns.catplot(x=\"Name\", y=\"BP TIME\", hue=\"matcher\", kind=\"bar\", data=df_combined,  height=5, aspect=4);\n",
    "g.set_xticklabels(rotation=90)\n",
    "\n",
    "#Visualize Runtime\n",
    "g = sns.catplot(x=\"Name\", y=\"OVERALL TIME\", hue=\"matcher\", kind=\"bar\", data=df_combined,  height=5, aspect=4);\n",
    "g.set_xticklabels(rotation=90)\n",
    "\n"
   ]
  }
 ],
 "metadata": {
  "kernelspec": {
   "display_name": "Python 3",
   "language": "python",
   "name": "python3"
  },
  "language_info": {
   "codemirror_mode": {
    "name": "ipython",
    "version": 3
   },
   "file_extension": ".py",
   "mimetype": "text/x-python",
   "name": "python",
   "nbconvert_exporter": "python",
   "pygments_lexer": "ipython3",
   "version": "3.7.3"
  }
 },
 "nbformat": 4,
 "nbformat_minor": 2
}
