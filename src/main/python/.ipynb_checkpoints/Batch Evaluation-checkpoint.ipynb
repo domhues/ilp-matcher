{
 "cells": [
  {
   "cell_type": "markdown",
   "metadata": {},
   "source": [
    "## Batch Evaluation\n",
    "Set the folder parameter. Get an anaysis about all included batch evals"
   ]
  },
  {
   "cell_type": "code",
   "execution_count": 31,
   "metadata": {},
   "outputs": [],
   "source": [
    "# import\n",
    "import seaborn as sns\n",
    "import pandas as pd\n",
    "from matplotlib.pyplot import figure\n",
    "import matplotlib.pyplot as plt\n",
    "import json\n",
    "import os\n",
    "\n",
    "#set path to folder\n",
    "folder = \"../../../eval-results/_server-results/test1\""
   ]
  },
  {
   "cell_type": "code",
   "execution_count": 32,
   "metadata": {},
   "outputs": [
    {
     "name": "stdout",
     "output_type": "stream",
     "text": [
      "['batch-birth-BINARY-2019-11-20 15:41:20.079', 'batch-birth-BINARY-2019-11-20 15:41:20.103', 'batch-birth-BINARY-2019-11-20 15:41:20.105', 'batch-birth-BINARY-2019-11-20 15:41:20.111', 'batch-birth-BINARY-2019-11-20 15:41:20.174', 'batch-birth-BINARY-2019-11-20-10:58:22.093', 'batch-birth-BINARY-2019-11-20 15:41:20.036', 'batch-birth-BINARY-2019-11-20-10:58:22.112', 'batch-birth-BINARY-2019-11-20-10:58:23.141', 'batch-birth-BINARY-2019-11-20 15:41:20.241', 'batch-birth-BINARY-2019-11-20-10:58:22.132', 'batch-birth-BINARY-2019-11-20-10:58:22.102', 'batch-birth-BINARY-2019-11-20 15:41:20.107', 'batch-birth-BINARY-2019-11-20 15:41:20.25', 'batch-birth-BINARY-2019-11-20 15:41:20.155', 'batch-birth-BINARY-2019-11-20-10:58:22.07', 'batch-birth-BINARY-2019-11-20-10:58:22.099', 'batch-birth-BINARY-2019-11-20 15:41:20.122', 'batch-birth-BINARY-2019-11-20 15:41:20.068', 'batch-birth-BINARY-2019-11-20 15:41:20.1', 'batch-birth-BINARY-2019-11-20 15:41:20.003']\n"
     ]
    },
    {
     "ename": "KeyError",
     "evalue": "'ilp'",
     "output_type": "error",
     "traceback": [
      "\u001b[0;31m---------------------------------------------------------------------------\u001b[0m",
      "\u001b[0;31mKeyError\u001b[0m                                  Traceback (most recent call last)",
      "\u001b[0;32m<ipython-input-32-b4045271dd1b>\u001b[0m in \u001b[0;36m<module>\u001b[0;34m()\u001b[0m\n\u001b[1;32m     13\u001b[0m             \u001b[0mconf\u001b[0m \u001b[0;34m=\u001b[0m \u001b[0mjson\u001b[0m\u001b[0;34m.\u001b[0m\u001b[0mload\u001b[0m\u001b[0;34m(\u001b[0m\u001b[0mjson_file\u001b[0m\u001b[0;34m)\u001b[0m\u001b[0;34m\u001b[0m\u001b[0;34m\u001b[0m\u001b[0m\n\u001b[1;32m     14\u001b[0m \u001b[0;34m\u001b[0m\u001b[0m\n\u001b[0;32m---> 15\u001b[0;31m         \u001b[0mdf\u001b[0m\u001b[0;34m[\u001b[0m\u001b[0;34m'matcher'\u001b[0m\u001b[0;34m]\u001b[0m \u001b[0;34m=\u001b[0m \u001b[0mconf\u001b[0m\u001b[0;34m[\u001b[0m\u001b[0;34m'ilp'\u001b[0m\u001b[0;34m]\u001b[0m\u001b[0;34m\u001b[0m\u001b[0;34m\u001b[0m\u001b[0m\n\u001b[0m\u001b[1;32m     16\u001b[0m         \u001b[0mdf\u001b[0m\u001b[0;34m[\u001b[0m\u001b[0;34m'complex-matches'\u001b[0m\u001b[0;34m]\u001b[0m \u001b[0;34m=\u001b[0m \u001b[0mconf\u001b[0m\u001b[0;34m[\u001b[0m\u001b[0;34m'complex matches'\u001b[0m\u001b[0;34m]\u001b[0m\u001b[0;34m\u001b[0m\u001b[0;34m\u001b[0m\u001b[0m\n\u001b[1;32m     17\u001b[0m         \u001b[0mdf\u001b[0m\u001b[0;34m\u001b[0m\u001b[0;34m\u001b[0m\u001b[0m\n",
      "\u001b[0;31mKeyError\u001b[0m: 'ilp'"
     ]
    }
   ],
   "source": [
    "#get all subfolders\n",
    "dir_list = next(os.walk(folder))[1]\n",
    "dfs = []\n",
    "print(dir_list)\n",
    "#merge all \n",
    "for subfolder in dir_list:\n",
    "    evalFile = folder +r\"/\" + subfolder +\"/aggResults.eval\"\n",
    "    confFile = folder +r\"/\" + subfolder +\"/config.log\"\n",
    "    if os.path.exists(evalFile):\n",
    "        df = pd.read_csv(evalFile ,encoding=\"ISO-8859-1\", skipinitialspace=True)\n",
    "        \n",
    "       # with open(confFile) as json_file:\n",
    "           # conf = json.load(json_file)\n",
    "            \n",
    "        df['matcher'] = subfolder #conf['ilp']\n",
    "        #df['complex-matches'] = conf['complex matches']\n",
    "        df\n",
    "        df.set_index(['Name','matcher'])\n",
    "        dfs.append(df)\n",
    "df_combined = pd.concat(dfs)\n",
    "\n",
    "#convert time\n",
    "df_combined['OVERALL TIME'] = df_combined['OVERALL TIME'].map(lambda x: x / 1000000000.)\n",
    "df_combined['BP TIME'] = df_combined['BP TIME'].map(lambda x: x / 1000000000.)\n",
    "df_combined['LABEL-SIM TIME'] = df_combined['LABEL-SIM TIME'].map(lambda x: x / 1000000000.)\n",
    "df_combined['LP TIME'] = df_combined['LP TIME'].map(lambda x: x / 1000000000.)\n",
    "\n",
    "\n",
    "\n",
    "# visualize Precision \n",
    "g = sns.catplot(x=\"Name\", y=\"PRECISION\", hue=\"matcher\", kind=\"bar\", data=df_combined,  height=5, aspect=4);\n",
    "g.set_xticklabels(rotation=90)\n",
    "\n",
    "# Visualize Recall\n",
    "g = sns.catplot(x=\"Name\", y=\"RECALL\", hue=\"matcher\", kind=\"bar\", data=df_combined,  height=5, aspect=4);\n",
    "g.set_xticklabels(rotation=90)\n",
    "\n",
    "# Visualize FSCORE\n",
    "g = sns.catplot(x=\"Name\", y=\"FSCORE\", hue=\"matcher\", kind=\"bar\", data=df_combined,  height=5, aspect=4);\n",
    "g.set_xticklabels(rotation=90)\n",
    "\n",
    "#Visualize Runtime\n",
    "g = sns.catplot(x=\"Name\", y=\"LP TIME\", hue=\"matcher\", kind=\"bar\", data=df_combined,  height=5, aspect=4);\n",
    "g.set_xticklabels(rotation=90)\n",
    "\n",
    "#Visualize Runtime\n",
    "g = sns.catplot(x=\"Name\", y=\"LABEL-SIM TIME\", hue=\"matcher\", kind=\"bar\", data=df_combined,  height=5, aspect=4);\n",
    "g.set_xticklabels(rotation=90)\n",
    "\n",
    "#Visualize Runtime\n",
    "g = sns.catplot(x=\"Name\", y=\"BP TIME\", hue=\"matcher\", kind=\"bar\", data=df_combined,  height=5, aspect=4);\n",
    "g.set_xticklabels(rotation=90)\n",
    "\n",
    "#Visualize Runtime\n",
    "g = sns.catplot(x=\"Name\", y=\"OVERALL TIME\", hue=\"matcher\", kind=\"bar\", data=df_combined,  height=5, aspect=4);\n",
    "g.set_xticklabels(rotation=90)\n"
   ]
  },
  {
   "cell_type": "code",
   "execution_count": null,
   "metadata": {},
   "outputs": [],
   "source": []
  }
 ],
 "metadata": {
  "kernelspec": {
   "display_name": "Python 3",
   "language": "python",
   "name": "python3"
  },
  "language_info": {
   "codemirror_mode": {
    "name": "ipython",
    "version": 3
   },
   "file_extension": ".py",
   "mimetype": "text/x-python",
   "name": "python",
   "nbconvert_exporter": "python",
   "pygments_lexer": "ipython3",
   "version": "3.7.3"
  }
 },
 "nbformat": 4,
 "nbformat_minor": 2
}
