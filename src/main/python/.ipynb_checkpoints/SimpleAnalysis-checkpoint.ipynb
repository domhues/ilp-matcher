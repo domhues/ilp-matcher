{
 "cells": [
  {
   "cell_type": "markdown",
   "metadata": {},
   "source": [
    "##Visualization of the Matcher Results"
   ]
  },
  {
   "cell_type": "code",
   "execution_count": 89,
   "metadata": {},
   "outputs": [],
   "source": [
    "# Imports\n",
    "import seaborn as sns\n",
    "import pandas as pd\n",
    "from matplotlib.pyplot import figure\n",
    "import matplotlib.pyplot as plt"
   ]
  },
  {
   "cell_type": "code",
   "execution_count": 91,
   "metadata": {},
   "outputs": [
    {
     "name": "stderr",
     "output_type": "stream",
     "text": [
      "ERROR:root:Internal Python error in the inspect module.\n",
      "Below is the traceback from this internal error.\n",
      "\n"
     ]
    },
    {
     "name": "stdout",
     "output_type": "stream",
     "text": [
      "Traceback (most recent call last):\n",
      "  File \"/Users/dominikhuser/anaconda3/lib/python3.7/site-packages/IPython/core/interactiveshell.py\", line 2961, in run_code\n",
      "    exec(code_obj, self.user_global_ns, self.user_ns)\n",
      "  File \"<ipython-input-91-0f31dcac4f4e>\", line 12, in <module>\n",
      "    df_combined = pd.concat([df_labe,df_label2,df_label3])\n",
      "NameError: name 'df_labe' is not defined\n",
      "\n",
      "During handling of the above exception, another exception occurred:\n",
      "\n",
      "Traceback (most recent call last):\n",
      "  File \"/Users/dominikhuser/anaconda3/lib/python3.7/site-packages/IPython/core/interactiveshell.py\", line 1863, in showtraceback\n",
      "    stb = value._render_traceback_()\n",
      "AttributeError: 'NameError' object has no attribute '_render_traceback_'\n",
      "\n",
      "During handling of the above exception, another exception occurred:\n",
      "\n",
      "Traceback (most recent call last):\n",
      "  File \"/Users/dominikhuser/anaconda3/lib/python3.7/site-packages/IPython/core/ultratb.py\", line 1095, in get_records\n",
      "    return _fixed_getinnerframes(etb, number_of_lines_of_context, tb_offset)\n",
      "  File \"/Users/dominikhuser/anaconda3/lib/python3.7/site-packages/IPython/core/ultratb.py\", line 311, in wrapped\n",
      "    return f(*args, **kwargs)\n",
      "  File \"/Users/dominikhuser/anaconda3/lib/python3.7/site-packages/IPython/core/ultratb.py\", line 345, in _fixed_getinnerframes\n",
      "    records = fix_frame_records_filenames(inspect.getinnerframes(etb, context))\n",
      "  File \"/Users/dominikhuser/anaconda3/lib/python3.7/inspect.py\", line 1502, in getinnerframes\n",
      "    frameinfo = (tb.tb_frame,) + getframeinfo(tb, context)\n",
      "  File \"/Users/dominikhuser/anaconda3/lib/python3.7/inspect.py\", line 1460, in getframeinfo\n",
      "    filename = getsourcefile(frame) or getfile(frame)\n",
      "  File \"/Users/dominikhuser/anaconda3/lib/python3.7/inspect.py\", line 696, in getsourcefile\n",
      "    if getattr(getmodule(object, filename), '__loader__', None) is not None:\n",
      "  File \"/Users/dominikhuser/anaconda3/lib/python3.7/inspect.py\", line 725, in getmodule\n",
      "    file = getabsfile(object, _filename)\n",
      "  File \"/Users/dominikhuser/anaconda3/lib/python3.7/inspect.py\", line 709, in getabsfile\n",
      "    return os.path.normcase(os.path.abspath(_filename))\n",
      "  File \"/Users/dominikhuser/anaconda3/lib/python3.7/posixpath.py\", line 383, in abspath\n",
      "    cwd = os.getcwd()\n",
      "FileNotFoundError: [Errno 2] No such file or directory\n"
     ]
    },
    {
     "ename": "NameError",
     "evalue": "name 'df_labe' is not defined",
     "output_type": "error",
     "traceback": [
      "\u001b[0;31m---------------------------------------------------------------------------\u001b[0m"
     ]
    }
   ],
   "source": [
    "# Birth Admission Label vs Behavior + Label\n",
    "df_label = pd.read_csv(\"../../../eval-results/_server-results/batch-birth-BINARY-behavior-test1/aggResults.eval\",encoding = \"ISO-8859-1\", skipinitialspace=True)\n",
    "df_label2 = pd.read_csv(\"../../../eval-results/_server-results/batch-birth-BINARY-behavior-test2/aggResults.eval\",encoding = \"ISO-8859-1\", skipinitialspace=True)\n",
    "df_label3 = pd.read_csv(\"../../../eval-results/_server-results/batch-birth-BINARY-behavior-test3/aggResults.eval\",encoding = \"ISO-8859-1\", skipinitialspace=True)\n",
    "#df_behavior = pd.read_csv(\"../../../eval-results/_server-results/batch-birth-BINARY-behavior_server_setup1/aggResults.eval\",encoding = \"ISO-8859-1\", skipinitialspace=True)\n",
    "\n",
    "#combine the dataframes\n",
    "df_label['matcher'] = \"setup 1\"\n",
    "df_label2['matcher'] = \"setup 2\"\n",
    "df_label3['matcher'] = \"setup 3\"\n",
    "#df_behavior['matcher'] = \"standard\"\n",
    "df_combined = pd.concat([df_labe,df_label2,df_label3])\n",
    "df_combined.set_index(['Name','matcher'])\n",
    "#transfer nanoseconds to other unit\n",
    "df_combined['OVERALL TIME'] = df_combined['OVERALL TIME'].map(lambda x: x / 1000000000.)\n",
    "df_combined['BP TIME'] = df_combined['BP TIME'].map(lambda x: x / 1000000000.)\n",
    "df_combined['LABEL-SIM TIME'] = df_combined['LABEL-SIM TIME'].map(lambda x: x / 1000000000.)\n",
    "df_combined['LP TIME'] = df_combined['LP TIME'].map(lambda x: x / 1000000000.)\n",
    "\n",
    "# visualize Precision \n",
    "g = sns.catplot(x=\"Name\", y=\"PRECISION\", hue=\"matcher\", kind=\"bar\", data=df_combined,  height=5, aspect=4);\n",
    "g.set_xticklabels(rotation=90)\n",
    "\n",
    "# Visualize Recall\n",
    "g = sns.catplot(x=\"Name\", y=\"RECALL\", hue=\"matcher\", kind=\"bar\", data=df_combined,  height=5, aspect=4);\n",
    "g.set_xticklabels(rotation=90)\n",
    "\n",
    "# Visualize FSCORE\n",
    "g = sns.catplot(x=\"Name\", y=\"FSCORE\", hue=\"matcher\", kind=\"bar\", data=df_combined,  height=5, aspect=4);\n",
    "g.set_xticklabels(rotation=90)\n",
    "\n",
    "#Visualize Runtime\n",
    "g = sns.catplot(x=\"Name\", y=\"LP TIME\", hue=\"matcher\", kind=\"bar\", data=df_combined,  height=5, aspect=4);\n",
    "g.set_xticklabels(rotation=90)\n",
    "\n",
    "#Visualize Runtime\n",
    "g = sns.catplot(x=\"Name\", y=\"LABEL-SIM TIME\", hue=\"matcher\", kind=\"bar\", data=df_combined,  height=5, aspect=4);\n",
    "g.set_xticklabels(rotation=90)\n",
    "\n",
    "#Visualize Runtime\n",
    "g = sns.catplot(x=\"Name\", y=\"BP TIME\", hue=\"matcher\", kind=\"bar\", data=df_combined,  height=5, aspect=4);\n",
    "g.set_xticklabels(rotation=90)\n",
    "\n",
    "#Visualize Runtime\n",
    "g = sns.catplot(x=\"Name\", y=\"OVERALL TIME\", hue=\"matcher\", kind=\"bar\", data=df_combined,  height=5, aspect=4);\n",
    "g.set_xticklabels(rotation=90)"
   ]
  },
  {
   "cell_type": "code",
   "execution_count": null,
   "metadata": {},
   "outputs": [],
   "source": []
  }
 ],
 "metadata": {
  "kernelspec": {
   "display_name": "Python 3",
   "language": "python",
   "name": "python3"
  },
  "language_info": {
   "codemirror_mode": {
    "name": "ipython",
    "version": 3
   },
   "file_extension": ".py",
   "mimetype": "text/x-python",
   "name": "python",
   "nbconvert_exporter": "python",
   "pygments_lexer": "ipython3",
   "version": "3.7.3"
  }
 },
 "nbformat": 4,
 "nbformat_minor": 2
}
