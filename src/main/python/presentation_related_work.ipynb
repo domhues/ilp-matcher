{
 "cells": [
  {
   "cell_type": "code",
   "execution_count": null,
   "metadata": {},
   "outputs": [],
   "source": [
    "import seaborn as sns\n",
    "import numpy as np\n",
    "import pandas as pd\n",
    "from matplotlib.pyplot import figure\n",
    "import matplotlib.pyplot as plt\n",
    "import json\n",
    "import os\n",
    "import pathlib\n",
    "from matplotlib.colors import ListedColormap\n"
   ]
  },
  {
   "cell_type": "code",
   "execution_count": null,
   "metadata": {},
   "outputs": [],
   "source": [
    "\n",
    "data = [['Eventually-follows','Log-based',0.5,0.4],['Directly-follows','Log-based',0.4,0.2], ['Eventually-follows','Model-based',0.5,0.4],['Directly-follows','Model-based',0.1,0.2]]\n",
    "df = pd.DataFrame(data, columns = ['Profile', 'Type', 'Macro Fscore', 'Micro Fscore'])\n",
    "\n",
    "fig, (ax1, ax2) = plt.subplots(1,2)\n",
    "fig.suptitle(\"Model-based and log-based matching in direct comparison\")\n",
    "fig.set_size_inches(14.5, 6.25)\n",
    "sns.catplot(x=\"Profile\", y=\"Macro Fscore\", hue=\"Type\", ax = ax1, data=df, kind=\"bar\", palette=sns.color_palette(\"Reds_d\", 4), order=[\"Eventually-follows\",\"Directly-follows\"], hue_order =[\"Model-based\",\"Log-based\"])\n",
    "sns.catplot(x=\"Profile\", y=\"Micro Fscore\", hue=\"Type\", ax = ax2, data=df, kind=\"bar\", palette=sns.color_palette(\"Reds_d\", 4), order=[\"Eventually-follows\",\"Directly-follows\"], hue_order =[\"Model-based\",\"Log-based\"])\n",
    "ax1.set_title(\"Macro Fscore\")\n",
    "ax1.set_ylim([0.0,0.65])\n",
    "ax2.set_title(\"Micro Fscore\")\n",
    "ax2.set_ylim([0.0,0.65])"
   ]
  },
  {
   "cell_type": "code",
   "execution_count": null,
   "metadata": {},
   "outputs": [],
   "source": [
    "data = [ ['ILP Matcher', 'Birth', 0.3877,0.4064],\n",
    "         ['ILP Matcher', 'Uni', 0.4510,0.6995],\n",
    "         ['ILP Matcher', 'SAP', 0.6953,0.6310],\n",
    "         ['MLN Matcher', 'Birth', 0.2714,0.2969],\n",
    "         ['MLN Matcher', 'Uni', 0.2196,0.2838],\n",
    "         ['MLN Matcher', 'SAP', 0.6,0.6042],\n",
    "         ['Bisimulation Matcher', 'Birth', 0.2156,0.2471],    \n",
    "         ['Bisimulation Matcher', 'Uni', 0.0885,0.1831],\n",
    "         ['Bisimulation Matcher', 'SAP', 0.3777,0.4029]]\n",
    "data_with_contest_hidden = data +  [['Contest Winner', 'Birth', 0,0],    \n",
    "         ['Contest Winner', 'Uni', 0,0],\n",
    "         ['Contest Winner', 'SAP', 0,0]]\n",
    "\n",
    "data_with_contest = data +  [['Contest Winner', 'Birth', 0.5585,0.5652],    \n",
    "         ['Contest Winner', 'Uni', 0.6882,0.7265],\n",
    "         ['Contest Winner', 'SAP', 0.6518,0.6182]]\n",
    "\n",
    "df = pd.DataFrame(data_with_contest, columns = ['Matcher', 'Dataset', 'Macro Fscore', 'Micro Fscore'])\n",
    "\n",
    "palette = sns.color_palette(\"Reds_d\", 3)\n",
    "palette += ['#DDDDDD']\n",
    "\n",
    "fig, (ax1, ax2) = plt.subplots(1,2)\n",
    "fig.suptitle(\"Optimization-based behavioral matcher\")\n",
    "fig.set_size_inches(14.5, 6.25)\n",
    "sns.catplot(x=\"Dataset\", y=\"Macro Fscore\", hue=\"Matcher\", ax = ax1, data=df, kind=\"bar\", palette=palette, order=[\"Birth\", \"Uni\", \"SAP\"], hue_order =[\"ILP Matcher\",\"MLN Matcher\", \"Bisimulation Matcher\",\"Contest Winner\"])\n",
    "sns.catplot(x=\"Dataset\", y=\"Micro Fscore\", hue=\"Matcher\", ax = ax2, data=df, kind=\"bar\", palette=palette,  order=[\"Birth\", \"Uni\", \"SAP\"], hue_order =[\"ILP Matcher\",\"MLN Matcher\", \"Bisimulation Matcher\", \"Contest Winner\"])\n",
    "ax1.set_title(\"Macro Fscore\")\n",
    "ax1.set_ylim([0.0,1.0])\n",
    "ax2.set_title(\"Micro Fscore\")\n",
    "ax2.set_ylim([0.0,1.0])"
   ]
  },
  {
   "cell_type": "code",
   "execution_count": null,
   "metadata": {},
   "outputs": [],
   "source": [
    "data = [ ['ILP Matcher', 'Birth', 0.3877,0.4064],\n",
    "         ['ILP Matcher', 'Uni', 0.4510,0.6995],\n",
    "         ['ILP Matcher', 'SAP', 0.6953,0.6310],\n",
    "        \n",
    "         ['RMM/NHCM', 'Birth', 0.4471,0.4565],\n",
    "         ['RMM/NHCM', 'Uni', 0.5763,0.6885],\n",
    "         ['RMM/NHCM', 'SAP', 0.5762,0.5526],\n",
    "         ['OPBOT', 'Birth', 0.5583,0.5652],    \n",
    "         ['OPBOT', 'Uni', 0.6740,0.6746],\n",
    "         ['OPBOT', 'SAP', 0.6472,0.6129],\n",
    "         ['AML-PM', 'Birth', 0.3830,0.3923],    \n",
    "         ['AML-PM', 'Uni', 0.4,0.4201],\n",
    "         ['AML-PM', 'SAP', 0.6518,0.6182],\n",
    "         ['AML', 'Birth', 0.4121,0.4203],    \n",
    "         ['AML', 'Uni', 0.6882,0.7265]]\n",
    "\n",
    "df = pd.DataFrame(data, columns = ['Matcher', 'Dataset', 'Macro Fscore', 'Micro Fscore'])\n",
    "\n",
    "fig, (ax1, ax2) = plt.subplots(1,2)\n",
    "fig.suptitle(\"Optimization-based behavioral matcher\")\n",
    "fig.set_size_inches(14.5, 6.25)\n",
    "sns.catplot(x=\"Dataset\", y=\"Macro Fscore\", hue=\"Matcher\", ax = ax1, data=df, kind=\"bar\", palette=sns.color_palette(\"Reds_d\", 5), order=[\"Birth\", \"Uni\", \"SAP\"], hue_order =[\"ILP Matcher\",\"RMM/NHCM\", \"OPBOT\", \"AML-PM\",\"AML\"])\n",
    "sns.catplot(x=\"Dataset\", y=\"Micro Fscore\", hue=\"Matcher\", ax = ax2, data=df, kind=\"bar\", palette=sns.color_palette(\"Reds_d\", 5),  order=[\"Birth\", \"Uni\", \"SAP\"], hue_order =[\"ILP Matcher\",\"RMM/NHCM\", \"OPBOT\", \"AML-PM\",\"AML\"])\n",
    "ax1.set_title(\"Macro Fscore\")\n",
    "ax1.set_ylim([0.0,0.8])\n",
    "ax2.set_title(\"Macro Fscore\")\n",
    "ax2.set_ylim([0.0,0.8])"
   ]
  }
 ],
 "metadata": {
  "kernelspec": {
   "display_name": "Python 3",
   "language": "python",
   "name": "python3"
  },
  "language_info": {
   "codemirror_mode": {
    "name": "ipython",
    "version": 3
   },
   "file_extension": ".py",
   "mimetype": "text/x-python",
   "name": "python",
   "nbconvert_exporter": "python",
   "pygments_lexer": "ipython3",
   "version": "3.7.3"
  }
 },
 "nbformat": 4,
 "nbformat_minor": 2
}
