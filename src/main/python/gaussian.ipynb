{
 "cells": [
  {
   "cell_type": "code",
   "execution_count": null,
   "metadata": {},
   "outputs": [],
   "source": [
    "%matplotlib inline\n",
    "\n",
    "import matplotlib.pyplot as plt\n",
    "import numpy as np\n",
    "import seaborn as sns\n",
    "import scipy.stats as stats\n",
    "import math\n",
    "x = np.linspace(0,1)\n",
    "\n",
    "\n",
    "mu1 = 0\n",
    "variance1 = 0.4\n",
    "sigma1 = math.sqrt(variance1)\n",
    "\n",
    "mu2 = 1\n",
    "variance2 = 0.4\n",
    "sigma2 = math.sqrt(variance2)\n",
    "\n",
    "fig, ax = plt.subplots(1)\n",
    "fig.set_size_inches(7, 4)\n",
    "\n",
    "ax.set_title(\"Probability Density Functions of the two Distributions\")\n",
    "ax.set_ylabel(\"f(x)\")\n",
    "ax.set_xlabel(\"x (Similarity Value)\")\n",
    "\n",
    "\n",
    "\n",
    "ax.fill_between(x,stats.norm.pdf(x, mu1, sigma1), alpha=0.3)\n",
    "ax.fill_between(x,stats.norm.pdf(x, mu2, sigma2), alpha=0.3)\n",
    "ax.plot(x, stats.norm.pdf(x, mu1, sigma1), label=\"Different Labels\")\n",
    "ax.plot(x, stats.norm.pdf(x, mu2, sigma2), label=\"Same Labels\")\n",
    "ax.legend()\n",
    "plt.show()"
   ]
  }
 ],
 "metadata": {
  "kernelspec": {
   "display_name": "Python 3",
   "language": "python",
   "name": "python3"
  },
  "language_info": {
   "codemirror_mode": {
    "name": "ipython",
    "version": 3
   },
   "file_extension": ".py",
   "mimetype": "text/x-python",
   "name": "python",
   "nbconvert_exporter": "python",
   "pygments_lexer": "ipython3",
   "version": "3.7.3"
  }
 },
 "nbformat": 4,
 "nbformat_minor": 2
}
