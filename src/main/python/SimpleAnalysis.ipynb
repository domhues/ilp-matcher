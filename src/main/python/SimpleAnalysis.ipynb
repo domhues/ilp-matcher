{
 "cells": [
  {
   "cell_type": "markdown",
   "metadata": {},
   "source": [
    "##Visualization of the Matcher Results"
   ]
  },
  {
   "cell_type": "code",
   "execution_count": null,
   "metadata": {},
   "outputs": [],
   "source": [
    "# Imports\n",
    "import seaborn as sns\n",
    "import pandas as pd\n",
    "from matplotlib.pyplot import figure\n",
    "import matplotlib.pyplot as plt"
   ]
  },
  {
   "cell_type": "code",
   "execution_count": null,
   "metadata": {},
   "outputs": [],
   "source": [
    "# Birth Admission Label vs Behavior + Label\n",
    "df_label = pd.read_csv(\"../../../eval-results/_server-results/batch-birth-BINARY-behavior-test1/aggResults.eval\",encoding = \"ISO-8859-1\", skipinitialspace=True)\n",
    "df_label2 = pd.read_csv(\"../../../eval-results/_server-results/batch-birth-BINARY-behavior-test2/aggResults.eval\",encoding = \"ISO-8859-1\", skipinitialspace=True)\n",
    "df_label3 = pd.read_csv(\"../../../eval-results/_server-results/batch-birth-BINARY-behavior-test3/aggResults.eval\",encoding = \"ISO-8859-1\", skipinitialspace=True)\n",
    "df_label4 = pd.read_csv(\"../../../eval-results/_server-results/batch-birth-BINARY-behavior-test4/aggResults.eval\",encoding = \"ISO-8859-1\", skipinitialspace=True)\n",
    "df_label5 = pd.read_csv(\"../../../eval-results/_server-results/batch-birth-BINARY-behavior-test5/aggResults.eval\",encoding = \"ISO-8859-1\", skipinitialspace=True)\n",
    "\n",
    "\n",
    "#df_behavior = pd.read_csv(\"../../../eval-results/_server-results/batch-birth-BINARY-behavior_server_setup1/aggResults.eval\",encoding = \"ISO-8859-1\", skipinitialspace=True)\n",
    "\n",
    "#combine the dataframes\n",
    "df_label['matcher'] = \"setup 1\"\n",
    "df_label2['matcher'] = \"setup 2\"\n",
    "df_label3['matcher'] = \"setup 3\"\n",
    "df_label4['matcher'] = \"setup 4\"\n",
    "df_label5['matcher'] = \"setup 5\"\n",
    "#df_behavior['matcher'] = \"standard\"\n",
    "df_combined = pd.concat([df_label,df_label2,df_label3,df_label4,df_label5])\n",
    "df_combined.set_index(['Name','matcher'])\n",
    "#transfer nanoseconds to other unit\n",
    "df_combined['OVERALL TIME'] = df_combined['OVERALL TIME'].map(lambda x: x / 1000000000.)\n",
    "df_combined['BP TIME'] = df_combined['BP TIME'].map(lambda x: x / 1000000000.)\n",
    "df_combined['LABEL-SIM TIME'] = df_combined['LABEL-SIM TIME'].map(lambda x: x / 1000000000.)\n",
    "df_combined['LP TIME'] = df_combined['LP TIME'].map(lambda x: x / 1000000000.)\n",
    "\n",
    "# visualize Precision \n",
    "g = sns.catplot(x=\"Name\", y=\"PRECISION\", hue=\"matcher\", kind=\"bar\", data=df_combined,  height=5, aspect=4);\n",
    "g.set_xticklabels(rotation=90)\n",
    "\n",
    "# Visualize Recall\n",
    "g = sns.catplot(x=\"Name\", y=\"RECALL\", hue=\"matcher\", kind=\"bar\", data=df_combined,  height=5, aspect=4);\n",
    "g.set_xticklabels(rotation=90)\n",
    "\n",
    "# Visualize FSCORE\n",
    "g = sns.catplot(x=\"Name\", y=\"FSCORE\", hue=\"matcher\", kind=\"bar\", data=df_combined,  height=5, aspect=4);\n",
    "g.set_xticklabels(rotation=90)\n",
    "\n",
    "#Visualize Runtime\n",
    "g = sns.catplot(x=\"Name\", y=\"LP TIME\", hue=\"matcher\", kind=\"bar\", data=df_combined,  height=5, aspect=4);\n",
    "g.set_xticklabels(rotation=90)\n",
    "\n",
    "#Visualize Runtime\n",
    "g = sns.catplot(x=\"Name\", y=\"LABEL-SIM TIME\", hue=\"matcher\", kind=\"bar\", data=df_combined,  height=5, aspect=4);\n",
    "g.set_xticklabels(rotation=90)\n",
    "\n",
    "#Visualize Runtime\n",
    "g = sns.catplot(x=\"Name\", y=\"BP TIME\", hue=\"matcher\", kind=\"bar\", data=df_combined,  height=5, aspect=4);\n",
    "g.set_xticklabels(rotation=90)\n",
    "\n",
    "#Visualize Runtime\n",
    "g = sns.catplot(x=\"Name\", y=\"OVERALL TIME\", hue=\"matcher\", kind=\"bar\", data=df_combined,  height=5, aspect=4);\n",
    "g.set_xticklabels(rotation=90)"
   ]
  },
  {
   "cell_type": "code",
   "execution_count": null,
   "metadata": {},
   "outputs": [],
   "source": []
  }
 ],
 "metadata": {
  "kernelspec": {
   "display_name": "Python 3",
   "language": "python",
   "name": "python3"
  },
  "language_info": {
   "codemirror_mode": {
    "name": "ipython",
    "version": 3
   },
   "file_extension": ".py",
   "mimetype": "text/x-python",
   "name": "python",
   "nbconvert_exporter": "python",
   "pygments_lexer": "ipython3",
   "version": "3.7.3"
  }
 },
 "nbformat": 4,
 "nbformat_minor": 2
}
